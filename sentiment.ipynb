{
 "cells": [
  {
   "cell_type": "code",
   "execution_count": 2,
   "metadata": {},
   "outputs": [],
   "source": [
    "import string\n",
    "import numpy as np\n",
    "import pandas as pd\n",
    "import seaborn as sns\n",
    "import matplotlib.pyplot as plt\n",
    "import tensorflow as tf\n",
    "import pickle\n",
    "\n",
    "# Preprocessing and evaluation\n",
    "from nltk.corpus import stopwords\n",
    "from nltk.stem.snowball import SnowballStemmer\n",
    "from nltk.stem.wordnet import WordNetLemmatizer\n",
    "from sklearn.model_selection import train_test_split, StratifiedKFold, cross_val_score\n",
    "from sklearn.preprocessing import LabelBinarizer\n",
    "from sklearn.feature_extraction.text import TfidfVectorizer\n",
    "from sklearn.metrics import confusion_matrix, classification_report\n",
    "from tensorflow.keras.preprocessing.text import Tokenizer\n",
    "from tensorflow.keras.preprocessing.sequence import pad_sequences\n",
    "from tensorflow.keras.regularizers import l1, l2\n",
    "\n",
    "# Models\n",
    "from sklearn.tree import DecisionTreeClassifier\n",
    "from sklearn.ensemble import RandomForestClassifier\n",
    "from sklearn.svm import SVC\n",
    "from sklearn.linear_model import LogisticRegression\n",
    "from sklearn.neighbors import KNeighborsClassifier\n",
    "from sklearn.naive_bayes import BernoulliNB"
   ]
  },
  {
   "cell_type": "markdown",
   "metadata": {},
   "source": [
    "# Train"
   ]
  },
  {
   "cell_type": "code",
   "execution_count": 2,
   "metadata": {},
   "outputs": [
    {
     "data": {
      "text/html": [
       "<div>\n",
       "<style scoped>\n",
       "    .dataframe tbody tr th:only-of-type {\n",
       "        vertical-align: middle;\n",
       "    }\n",
       "\n",
       "    .dataframe tbody tr th {\n",
       "        vertical-align: top;\n",
       "    }\n",
       "\n",
       "    .dataframe thead th {\n",
       "        text-align: right;\n",
       "    }\n",
       "</style>\n",
       "<table border=\"1\" class=\"dataframe\">\n",
       "  <thead>\n",
       "    <tr style=\"text-align: right;\">\n",
       "      <th></th>\n",
       "      <th>Review</th>\n",
       "      <th>Rating</th>\n",
       "    </tr>\n",
       "  </thead>\n",
       "  <tbody>\n",
       "    <tr>\n",
       "      <th>0</th>\n",
       "      <td>nice hotel expensive parking got good deal sta...</td>\n",
       "      <td>4</td>\n",
       "    </tr>\n",
       "    <tr>\n",
       "      <th>1</th>\n",
       "      <td>ok nothing special charge diamond member hilto...</td>\n",
       "      <td>2</td>\n",
       "    </tr>\n",
       "    <tr>\n",
       "      <th>2</th>\n",
       "      <td>nice rooms not 4* experience hotel monaco seat...</td>\n",
       "      <td>3</td>\n",
       "    </tr>\n",
       "    <tr>\n",
       "      <th>3</th>\n",
       "      <td>unique, great stay, wonderful time hotel monac...</td>\n",
       "      <td>5</td>\n",
       "    </tr>\n",
       "    <tr>\n",
       "      <th>4</th>\n",
       "      <td>great stay great stay, went seahawk game aweso...</td>\n",
       "      <td>5</td>\n",
       "    </tr>\n",
       "  </tbody>\n",
       "</table>\n",
       "</div>"
      ],
      "text/plain": [
       "                                              Review  Rating\n",
       "0  nice hotel expensive parking got good deal sta...       4\n",
       "1  ok nothing special charge diamond member hilto...       2\n",
       "2  nice rooms not 4* experience hotel monaco seat...       3\n",
       "3  unique, great stay, wonderful time hotel monac...       5\n",
       "4  great stay great stay, went seahawk game aweso...       5"
      ]
     },
     "execution_count": 2,
     "metadata": {},
     "output_type": "execute_result"
    }
   ],
   "source": [
    "df = pd.read_csv('tripadvisor_hotel_reviews.csv')\n",
    "df.head()"
   ]
  },
  {
   "cell_type": "code",
   "execution_count": 6,
   "metadata": {},
   "outputs": [
    {
     "data": {
      "text/plain": [
       "<Axes: xlabel='Rating', ylabel='count'>"
      ]
     },
     "execution_count": 6,
     "metadata": {},
     "output_type": "execute_result"
    },
    {
     "data": {
      "image/png": "[encoded data removed]",
      "text/plain": [
       "<Figure size 640x480 with 1 Axes>"
      ]
     },
     "metadata": {},
     "output_type": "display_data"
    }
   ],
   "source": [
    "sns.countplot(data=df, x='Rating')"
   ]
  },
  {
   "cell_type": "code",
   "execution_count": 8,
   "metadata": {},
   "outputs": [],
   "source": [
    "def rating(score):\n",
    "    if score > 3:\n",
    "        return 'Good'\n",
    "    elif score == 3:\n",
    "        return 'Netral'\n",
    "    else:\n",
    "        return 'Bad'\n",
    "    \n",
    "df['Rating'] = df['Rating'].apply(rating)"
   ]
  },
  {
   "cell_type": "code",
   "execution_count": 9,
   "metadata": {},
   "outputs": [
    {
     "data": {
      "text/html": [
       "<div>\n",
       "<style scoped>\n",
       "    .dataframe tbody tr th:only-of-type {\n",
       "        vertical-align: middle;\n",
       "    }\n",
       "\n",
       "    .dataframe tbody tr th {\n",
       "        vertical-align: top;\n",
       "    }\n",
       "\n",
       "    .dataframe thead th {\n",
       "        text-align: right;\n",
       "    }\n",
       "</style>\n",
       "<table border=\"1\" class=\"dataframe\">\n",
       "  <thead>\n",
       "    <tr style=\"text-align: right;\">\n",
       "      <th></th>\n",
       "      <th>Review</th>\n",
       "      <th>Rating</th>\n",
       "    </tr>\n",
       "  </thead>\n",
       "  <tbody>\n",
       "    <tr>\n",
       "      <th>0</th>\n",
       "      <td>nice hotel expensive parking got good deal sta...</td>\n",
       "      <td>Good</td>\n",
       "    </tr>\n",
       "    <tr>\n",
       "      <th>1</th>\n",
       "      <td>ok nothing special charge diamond member hilto...</td>\n",
       "      <td>Bad</td>\n",
       "    </tr>\n",
       "    <tr>\n",
       "      <th>2</th>\n",
       "      <td>nice rooms not 4* experience hotel monaco seat...</td>\n",
       "      <td>Netral</td>\n",
       "    </tr>\n",
       "    <tr>\n",
       "      <th>3</th>\n",
       "      <td>unique, great stay, wonderful time hotel monac...</td>\n",
       "      <td>Good</td>\n",
       "    </tr>\n",
       "    <tr>\n",
       "      <th>4</th>\n",
       "      <td>great stay great stay, went seahawk game aweso...</td>\n",
       "      <td>Good</td>\n",
       "    </tr>\n",
       "  </tbody>\n",
       "</table>\n",
       "</div>"
      ],
      "text/plain": [
       "                                              Review  Rating\n",
       "0  nice hotel expensive parking got good deal sta...    Good\n",
       "1  ok nothing special charge diamond member hilto...     Bad\n",
       "2  nice rooms not 4* experience hotel monaco seat...  Netral\n",
       "3  unique, great stay, wonderful time hotel monac...    Good\n",
       "4  great stay great stay, went seahawk game aweso...    Good"
      ]
     },
     "execution_count": 9,
     "metadata": {},
     "output_type": "execute_result"
    }
   ],
   "source": [
    "df.head()"
   ]
  },
  {
   "cell_type": "code",
   "execution_count": 12,
   "metadata": {},
   "outputs": [],
   "source": [
    "def cleaning(text):\n",
    "    #remove punctuations and uppercase\n",
    "    clean_text = text.translate(str.maketrans('','',string.punctuation)).lower()\n",
    "    \n",
    "    #remove stopwords\n",
    "    clean_text = [word for word in clean_text.split() if word not in stopwords.words('english')]\n",
    "    \n",
    "    #lemmatize the word\n",
    "    sentence = []\n",
    "    for word in clean_text:\n",
    "        lemmatizer = WordNetLemmatizer()\n",
    "        sentence.append(lemmatizer.lemmatize(word, 'v'))\n",
    "\n",
    "    return ' '.join(sentence)\n",
    "\n",
    "#df['Review'] = df['Review'].apply(cleaning)\n",
    "#df.to_csv('cleaned.csv', index=False)"
   ]
  },
  {
   "cell_type": "code",
   "execution_count": 14,
   "metadata": {},
   "outputs": [],
   "source": [
    "X_train, X_test, y_train, y_test = train_test_split(df['Review'], df['Rating'], test_size=0.2)"
   ]
  },
  {
   "cell_type": "code",
   "execution_count": 17,
   "metadata": {},
   "outputs": [
    {
     "name": "stdout",
     "output_type": "stream",
     "text": [
      "Total distinct words: 64819\n"
     ]
    }
   ],
   "source": [
    "tokenizer = Tokenizer(num_words=50000, oov_token='<OOV>')\n",
    "\n",
    "tokenizer.fit_on_texts(X_train)\n",
    "# print(tokenizer.word_index)\n",
    "total_word = len(tokenizer.word_index)\n",
    "print('Total distinct words: {}'.format(total_word))\n",
    "\n",
    "train_seq = tokenizer.texts_to_sequences(X_train)\n",
    "train_padded = pad_sequences(train_seq)\n",
    "\n",
    "test_seq = tokenizer.texts_to_sequences(X_test)\n",
    "test_padded = pad_sequences(test_seq)\n",
    "\n",
    "# One hot encoding the label\n",
    "lb = LabelBinarizer()\n",
    "train_labels = lb.fit_transform(y_train)\n",
    "test_labels = lb.transform(y_test)"
   ]
  },
  {
   "cell_type": "code",
   "execution_count": 18,
   "metadata": {},
   "outputs": [],
   "source": [
    "pickle.dump(tokenizer, open('tokenizer.pkl', 'wb'))\n",
    "pickle.dump(lb, open('label.pkl', 'wb'))"
   ]
  },
  {
   "cell_type": "code",
   "execution_count": 19,
   "metadata": {},
   "outputs": [
    {
     "name": "stdout",
     "output_type": "stream",
     "text": [
      "Model: \"sequential\"\n",
      "_________________________________________________________________\n",
      " Layer (type)                Output Shape              Param #   \n",
      "=================================================================\n",
      " embedding (Embedding)       (None, None, 8)           518552    \n",
      "                                                                 \n",
      " bidirectional (Bidirectiona  (None, 32)               3200      \n",
      " l)                                                              \n",
      "                                                                 \n",
      " dropout (Dropout)           (None, 32)                0         \n",
      "                                                                 \n",
      " dense (Dense)               (None, 8)                 264       \n",
      "                                                                 \n",
      " dropout_1 (Dropout)         (None, 8)                 0         \n",
      "                                                                 \n",
      " dense_1 (Dense)             (None, 3)                 27        \n",
      "                                                                 \n",
      "=================================================================\n",
      "Total params: 522,043\n",
      "Trainable params: 522,043\n",
      "Non-trainable params: 0\n",
      "_________________________________________________________________\n"
     ]
    }
   ],
   "source": [
    "model = tf.keras.models.Sequential([tf.keras.layers.Embedding(total_word, 8),\n",
    "                                    tf.keras.layers.Bidirectional(tf.keras.layers.LSTM(16)),\n",
    "                                    tf.keras.layers.Dropout(0.5),\n",
    "                                    tf.keras.layers.Dense(8, kernel_regularizer=l2(0.001),\n",
    "                                                          bias_regularizer=l2(0.001), activation='relu'),\n",
    "                                    tf.keras.layers.Dropout(0.5),\n",
    "                                    tf.keras.layers.Dense(3, activation='softmax')])\n",
    "\n",
    "model.summary()"
   ]
  },
  {
   "cell_type": "code",
   "execution_count": 20,
   "metadata": {},
   "outputs": [
    {
     "name": "stdout",
     "output_type": "stream",
     "text": [
      "Epoch 1/25\n",
      "513/513 [==============================] - 90s 156ms/step - loss: 0.9860 - accuracy: 0.6933 - val_loss: 0.8204 - val_accuracy: 0.7360\n",
      "Epoch 2/25\n",
      "513/513 [==============================] - 79s 155ms/step - loss: 0.8499 - accuracy: 0.7278 - val_loss: 0.6908 - val_accuracy: 0.7360\n",
      "Epoch 3/25\n",
      "513/513 [==============================] - 80s 156ms/step - loss: 0.7384 - accuracy: 0.7347 - val_loss: 0.6307 - val_accuracy: 0.7360\n",
      "Epoch 4/25\n",
      "513/513 [==============================] - 83s 161ms/step - loss: 0.6603 - accuracy: 0.7498 - val_loss: 0.5465 - val_accuracy: 0.7785\n",
      "Epoch 5/25\n",
      "513/513 [==============================] - 87s 169ms/step - loss: 0.6029 - accuracy: 0.7948 - val_loss: 0.5173 - val_accuracy: 0.8131\n",
      "Epoch 6/25\n",
      "513/513 [==============================] - 83s 162ms/step - loss: 0.5578 - accuracy: 0.8197 - val_loss: 0.4856 - val_accuracy: 0.8290\n",
      "Epoch 7/25\n",
      "513/513 [==============================] - 78s 152ms/step - loss: 0.5610 - accuracy: 0.8206 - val_loss: 0.5324 - val_accuracy: 0.8092\n",
      "Epoch 8/25\n",
      "513/513 [==============================] - 75s 146ms/step - loss: 0.5451 - accuracy: 0.8185 - val_loss: 0.4932 - val_accuracy: 0.8200\n",
      "Epoch 9/25\n",
      "513/513 [==============================] - 77s 150ms/step - loss: 0.5203 - accuracy: 0.8316 - val_loss: 0.4835 - val_accuracy: 0.8207\n",
      "Epoch 10/25\n",
      "513/513 [==============================] - 82s 159ms/step - loss: 0.4973 - accuracy: 0.8397 - val_loss: 0.4789 - val_accuracy: 0.8224\n",
      "Epoch 11/25\n",
      "513/513 [==============================] - 78s 153ms/step - loss: 0.4782 - accuracy: 0.8465 - val_loss: 0.4785 - val_accuracy: 0.8239\n",
      "Epoch 12/25\n",
      "513/513 [==============================] - 77s 150ms/step - loss: 0.4628 - accuracy: 0.8513 - val_loss: 0.4792 - val_accuracy: 0.8256\n",
      "Epoch 13/25\n",
      "513/513 [==============================] - 82s 159ms/step - loss: 0.4517 - accuracy: 0.8521 - val_loss: 0.4771 - val_accuracy: 0.8275\n",
      "Epoch 14/25\n",
      "513/513 [==============================] - 76s 148ms/step - loss: 0.4369 - accuracy: 0.8572 - val_loss: 0.4716 - val_accuracy: 0.8273\n",
      "Epoch 15/25\n",
      "513/513 [==============================] - 76s 149ms/step - loss: 0.4241 - accuracy: 0.8597 - val_loss: 0.4791 - val_accuracy: 0.8326\n",
      "Epoch 16/25\n",
      "513/513 [==============================] - 75s 147ms/step - loss: 0.4071 - accuracy: 0.8643 - val_loss: 0.4714 - val_accuracy: 0.8356\n",
      "Epoch 17/25\n",
      "513/513 [==============================] - 75s 147ms/step - loss: 0.3999 - accuracy: 0.8635 - val_loss: 0.4638 - val_accuracy: 0.8292\n",
      "Epoch 18/25\n",
      "513/513 [==============================] - 302s 589ms/step - loss: 0.3869 - accuracy: 0.8669 - val_loss: 0.4714 - val_accuracy: 0.8358\n",
      "Epoch 19/25\n",
      "513/513 [==============================] - 83s 163ms/step - loss: 0.3760 - accuracy: 0.8694 - val_loss: 0.4711 - val_accuracy: 0.8353\n",
      "Epoch 20/25\n",
      "513/513 [==============================] - 76s 149ms/step - loss: 0.3643 - accuracy: 0.8734 - val_loss: 0.4871 - val_accuracy: 0.8378\n",
      "Epoch 21/25\n",
      "513/513 [==============================] - 76s 148ms/step - loss: 0.3570 - accuracy: 0.8741 - val_loss: 0.4732 - val_accuracy: 0.8275\n",
      "Epoch 22/25\n",
      "513/513 [==============================] - 74s 145ms/step - loss: 0.3506 - accuracy: 0.8755 - val_loss: 0.4985 - val_accuracy: 0.8387\n",
      "Epoch 23/25\n",
      "513/513 [==============================] - 75s 146ms/step - loss: 0.3399 - accuracy: 0.8772 - val_loss: 0.4857 - val_accuracy: 0.8285\n",
      "Epoch 24/25\n",
      "513/513 [==============================] - 78s 151ms/step - loss: 0.3308 - accuracy: 0.8787 - val_loss: 0.5146 - val_accuracy: 0.8380\n",
      "Epoch 25/25\n",
      "513/513 [==============================] - 80s 155ms/step - loss: 0.3279 - accuracy: 0.8831 - val_loss: 0.5154 - val_accuracy: 0.8343\n"
     ]
    },
    {
     "data": {
      "text/plain": [
       "<keras.callbacks.History at 0x2a699afe5b0>"
      ]
     },
     "execution_count": 20,
     "metadata": {},
     "output_type": "execute_result"
    }
   ],
   "source": [
    "model.compile(optimizer=tf.optimizers.Adam(learning_rate=0.0001), loss='categorical_crossentropy', metrics=['accuracy'])\n",
    "\n",
    "model.fit(train_padded, train_labels, epochs=25, validation_data=(test_padded, test_labels))"
   ]
  },
  {
   "cell_type": "code",
   "execution_count": 21,
   "metadata": {},
   "outputs": [
    {
     "data": {
      "text/plain": [
       "<Axes: >"
      ]
     },
     "execution_count": 21,
     "metadata": {},
     "output_type": "execute_result"
    },
    {
     "data": {
      "image/png": "[encoded data removed]",
      "text/plain": [
       "<Figure size 640x480 with 1 Axes>"
      ]
     },
     "metadata": {},
     "output_type": "display_data"
    },
    {
     "data": {
      "image/png": "[encoded data removed]",
      "text/plain": [
       "<Figure size 640x480 with 1 Axes>"
      ]
     },
     "metadata": {},
     "output_type": "display_data"
    }
   ],
   "source": [
    "metrics = pd.DataFrame(model.history.history)\n",
    "metrics[['accuracy', 'val_accuracy']].plot()\n",
    "metrics[['loss', 'val_loss']].plot()"
   ]
  },
  {
   "cell_type": "code",
   "execution_count": 22,
   "metadata": {},
   "outputs": [
    {
     "name": "stdout",
     "output_type": "stream",
     "text": [
      "129/129 [==============================] - 12s 72ms/step\n"
     ]
    }
   ],
   "source": [
    "pred2 = model.predict(test_padded)"
   ]
  },
  {
   "cell_type": "code",
   "execution_count": 23,
   "metadata": {},
   "outputs": [],
   "source": [
    "true_labels = np.argmax(test_labels, axis=-1)\n",
    "pred_labels = np.argmax(pred2, axis=-1)"
   ]
  },
  {
   "cell_type": "code",
   "execution_count": 24,
   "metadata": {},
   "outputs": [
    {
     "name": "stdout",
     "output_type": "stream",
     "text": [
      "[[ 521   97   18]\n",
      " [ 114 2890   13]\n",
      " [ 176  261    9]]\n",
      "              precision    recall  f1-score   support\n",
      "\n",
      "           0       0.64      0.82      0.72       636\n",
      "           1       0.89      0.96      0.92      3017\n",
      "           2       0.23      0.02      0.04       446\n",
      "\n",
      "    accuracy                           0.83      4099\n",
      "   macro avg       0.59      0.60      0.56      4099\n",
      "weighted avg       0.78      0.83      0.79      4099\n",
      "\n"
     ]
    }
   ],
   "source": [
    "print(confusion_matrix(true_labels, pred_labels))\n",
    "print(classification_report(true_labels, pred_labels))"
   ]
  },
  {
   "cell_type": "code",
   "execution_count": 25,
   "metadata": {},
   "outputs": [],
   "source": [
    "model.save('model.h5')"
   ]
  },
  {
   "cell_type": "markdown",
   "metadata": {},
   "source": [
    "# Predict"
   ]
  },
  {
   "cell_type": "code",
   "execution_count": 15,
   "metadata": {},
   "outputs": [],
   "source": [
    "import tensorflow as tf\n",
    "\n",
    "loaded_model = tf.keras.models.load_model('model.h5')\n"
   ]
  },
  {
   "cell_type": "code",
   "execution_count": 16,
   "metadata": {},
   "outputs": [],
   "source": [
    "import pickle\n",
    "\n",
    "tokenizer = pickle.load(open('tokenizer.pkl', 'rb'))\n",
    "label_binarizer = pickle.load(open('label.pkl', 'rb'))\n"
   ]
  },
  {
   "cell_type": "code",
   "execution_count": 20,
   "metadata": {},
   "outputs": [],
   "source": [
    "new_review = \"This hotel was ass\"\n"
   ]
  },
  {
   "cell_type": "code",
   "execution_count": 21,
   "metadata": {},
   "outputs": [],
   "source": [
    "cleaned_review = cleaning(new_review)  # Apply your cleaning function\n",
    "review_seq = tokenizer.texts_to_sequences([cleaned_review])\n",
    "review_padded = pad_sequences(review_seq)\n"
   ]
  },
  {
   "cell_type": "code",
   "execution_count": 22,
   "metadata": {},
   "outputs": [
    {
     "name": "stdout",
     "output_type": "stream",
     "text": [
      "1/1 [==============================] - 0s 453ms/step\n",
      "Predicted Rating: ['Bad']\n"
     ]
    }
   ],
   "source": [
    "predictions = loaded_model.predict(review_padded)\n",
    "predicted_label = label_binarizer.classes_[predictions.argmax(axis=1)]\n",
    "print(\"Predicted Rating:\", predicted_label)\n"
   ]
  },
  {
   "cell_type": "code",
   "execution_count": 3,
   "metadata": {},
   "outputs": [
    {
     "data": {
      "text/plain": [
       "'c:\\\\Ara\\\\TP\\\\FYP\\\\ReviewSentiment'"
      ]
     },
     "execution_count": 3,
     "metadata": {},
     "output_type": "execute_result"
    }
   ],
   "source": [
    "pwd"
   ]
  },
  {
   "cell_type": "code",
   "execution_count": null,
   "metadata": {},
   "outputs": [],
   "source": []
  }
 ],
 "metadata": {
  "kernelspec": {
   "display_name": "sirene",
   "language": "python",
   "name": "python3"
  },
  "language_info": {
   "codemirror_mode": {
    "name": "ipython",
    "version": 3
   },
   "file_extension": ".py",
   "mimetype": "text/x-python",
   "name": "python",
   "nbconvert_exporter": "python",
   "pygments_lexer": "ipython3",
   "version": "3.9.16"
  },
  "orig_nbformat": 4
 },
 "nbformat": 4,
 "nbformat_minor": 2
}
